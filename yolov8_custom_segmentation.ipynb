{
 "cells": [
  {
   "cell_type": "markdown",
   "id": "315473ad",
   "metadata": {},
   "source": [
    "### YOLOv8 Instance segmentation on Custom Data"
   ]
  },
  {
   "cell_type": "markdown",
   "id": "8c651980",
   "metadata": {},
   "source": [
    "### Create virtual environment"
   ]
  },
  {
   "cell_type": "code",
   "execution_count": null,
   "id": "65bb895b",
   "metadata": {},
   "outputs": [],
   "source": [
    "%cd C:\\Users\\sharath\\Projects\\yolov8_seg"
   ]
  },
  {
   "cell_type": "code",
   "execution_count": null,
   "id": "686aa421",
   "metadata": {},
   "outputs": [],
   "source": [
    "#Create vrtual environment using anaconda\n",
    "conda create -n yolov8-seg python == 3.10 -y\n",
    "conda activate yolov8"
   ]
  },
  {
   "cell_type": "markdown",
   "id": "db650db4",
   "metadata": {},
   "source": [
    "### Download dataset Squirrel and Butterflies "
   ]
  },
  {
   "cell_type": "code",
   "execution_count": null,
   "id": "14bb91a3",
   "metadata": {},
   "outputs": [],
   "source": [
    "#Goto ayoolaolafenwa/pixelLib github account and download the dataset using following link\n",
    "#https://github.com/ayoolaolafenwa/PixelLib/releases/download/1.0.0/Nature.zip"
   ]
  },
  {
   "cell_type": "code",
   "execution_count": null,
   "id": "34e2823a",
   "metadata": {},
   "outputs": [],
   "source": [
    "#Create dataset folder move train and test folders"
   ]
  },
  {
   "cell_type": "code",
   "execution_count": null,
   "id": "061b5761",
   "metadata": {},
   "outputs": [],
   "source": [
    "#convert dataset into yolo format\n",
    "pip install labelme2yolo\n",
    "labelme2yolo --json_dir dataset/train"
   ]
  },
  {
   "cell_type": "code",
   "execution_count": null,
   "id": "1c429f34",
   "metadata": {},
   "outputs": [],
   "source": [
    "#cut and paste yolov8 dataset folder into images and labels subfolders to root directory"
   ]
  },
  {
   "cell_type": "code",
   "execution_count": null,
   "id": "28c8c563",
   "metadata": {},
   "outputs": [],
   "source": [
    "labelme2yolo --json_dir dataset/test\n",
    "#cut and paste yolov8 dataset folder into images and labels subfolders to root directory\n"
   ]
  },
  {
   "cell_type": "markdown",
   "id": "cb343444",
   "metadata": {},
   "source": [
    "##### dataset.yaml file"
   ]
  },
  {
   "cell_type": "code",
   "execution_count": null,
   "id": "eebafc90",
   "metadata": {},
   "outputs": [],
   "source": [
    "train:  c:://users/sharath/yolov8_seg/train\n",
    "test:   c:://users/sharath/yolov8_seg/train\n",
    "nc: 1\n",
    "names : ['butterfly']"
   ]
  },
  {
   "cell_type": "code",
   "execution_count": null,
   "id": "2cab5bb8",
   "metadata": {},
   "outputs": [],
   "source": []
  },
  {
   "cell_type": "markdown",
   "id": "53150d41",
   "metadata": {},
   "source": [
    "### Install Required libraries"
   ]
  },
  {
   "cell_type": "code",
   "execution_count": null,
   "id": "e4ea4026",
   "metadata": {},
   "outputs": [],
   "source": [
    "#install ultralytics\n",
    "pip install ultralytics"
   ]
  },
  {
   "cell_type": "code",
   "execution_count": null,
   "id": "7fe9e03b",
   "metadata": {},
   "outputs": [],
   "source": [
    "#Download pytorch\n",
    "#For CPU,  \n",
    "pip install pytorch\n",
    "\n",
    "#For GPU,download cuda based pytorch from pytorch offcial website\n",
    "\n",
    "pip3 install torch torchvision torchaudio --index-url https://download.pytorch.org/whl/cu121"
   ]
  },
  {
   "cell_type": "markdown",
   "id": "7f38b113",
   "metadata": {},
   "source": [
    "### Download pretrained  yolov8 segmentation model"
   ]
  },
  {
   "cell_type": "code",
   "execution_count": null,
   "id": "18016215",
   "metadata": {},
   "outputs": [],
   "source": [
    "#Download yolov8m-seg.pt model from offcial yolov8 website\n",
    "https://github.com/ultralytics/assets/releases/download/v8.1.0/yolov8m-seg.pt"
   ]
  },
  {
   "cell_type": "markdown",
   "id": "74fe7262",
   "metadata": {},
   "source": [
    "### Train the model"
   ]
  },
  {
   "cell_type": "code",
   "execution_count": null,
   "id": "9806c2dd",
   "metadata": {},
   "outputs": [],
   "source": [
    "#To train yolov8 custom segmentation model\n",
    "\n",
    "yolo task=segment mode=train epochs=100 data=dataset.yaml model=yolov8m-seg.pt imgsz=640 batch=8\n",
    "\n",
    "o/p:runs/segment/train"
   ]
  },
  {
   "cell_type": "code",
   "execution_count": null,
   "id": "b101eb3b",
   "metadata": {},
   "outputs": [],
   "source": []
  },
  {
   "cell_type": "raw",
   "id": "4940f7d5",
   "metadata": {},
   "source": [
    "Copy paste best.pt from trained models and rename as **yolov8m-seg-custom.pt**\n",
    "\n",
    "use this model for inference"
   ]
  },
  {
   "cell_type": "raw",
   "id": "f0e99a92",
   "metadata": {},
   "source": [
    "For inferencing ,copy and paste any images from test folder and copy at root directory \n",
    "ex: 1.jpg"
   ]
  },
  {
   "cell_type": "markdown",
   "id": "e434be41",
   "metadata": {},
   "source": [
    "### Inference model"
   ]
  },
  {
   "cell_type": "code",
   "execution_count": null,
   "id": "531afae3",
   "metadata": {},
   "outputs": [],
   "source": [
    "#Create predict.py file at root directory\n",
    "from ultralytics import YOLO\n",
    "\n",
    "model = YOLO(\"yolov8m-seg-custom.pt\")\n",
    "\n",
    "model.predict(source=\"1.jpg\", show =True , save = True, conf=0.5, save_txt=False, save_crop=True, line_thickness=2 ,hide_labels=False, hide_conf=False)\n",
    "\n"
   ]
  },
  {
   "cell_type": "code",
   "execution_count": null,
   "id": "40eb5689",
   "metadata": {},
   "outputs": [],
   "source": [
    "# Run the inference model,Anaconda\n",
    "python predict.py\n",
    "\n",
    "\n",
    "o/p: runs/segment/predict\n"
   ]
  },
  {
   "cell_type": "code",
   "execution_count": null,
   "id": "76371832",
   "metadata": {},
   "outputs": [],
   "source": [
    "#To detect custom segmentation on videos\n",
    "\n",
    "from ultralytics import YOLO\n",
    "\n",
    "model = YOLO(\"yolov8m-seg-custom.pt\")\n",
    "\n",
    "model.predict(source=\"video.mp4\", show =True , save = True, conf=0.5, save_txt=False, line_thickness=2 )\n",
    "\n"
   ]
  },
  {
   "cell_type": "code",
   "execution_count": null,
   "id": "4675500f",
   "metadata": {},
   "outputs": [],
   "source": [
    "#To detect custom segmentation on webcam\n",
    "\n",
    "from ultralytics import YOLO\n",
    "\n",
    "model = YOLO(\"yolov8m-seg-custom.pt\")\n",
    "\n",
    "model.predict(source=0, show =True , save = True, conf=0.5, save_txt=False, line_thickness=2 )\n"
   ]
  },
  {
   "cell_type": "code",
   "execution_count": null,
   "id": "bc782a0b",
   "metadata": {},
   "outputs": [],
   "source": [
    "#To detect custom segmentation on security/IP cameras\n",
    "\n",
    "from ultralytics import YOLO\n",
    "\n",
    "model = YOLO(\"yolov8m-seg-custom.pt\")\n",
    "\n",
    "model.predict(source=\"URL\", show =True , save = True, conf=0.5, save_txt=False, line_thickness=2 )\n"
   ]
  },
  {
   "cell_type": "code",
   "execution_count": null,
   "id": "13fb92df",
   "metadata": {},
   "outputs": [],
   "source": []
  },
  {
   "cell_type": "markdown",
   "id": "1175c4f3",
   "metadata": {},
   "source": [
    "### Export the model to ONNX or tflite"
   ]
  },
  {
   "cell_type": "code",
   "execution_count": null,
   "id": "02664024",
   "metadata": {},
   "outputs": [],
   "source": [
    "#to expport model to onnx\n",
    "from ultralytics import YOLO\n",
    "\n",
    "model = YOLO(\"yolov8m-seg-custom.pt\")\n",
    "\n",
    "model.export(format=\"onnx\")"
   ]
  },
  {
   "cell_type": "code",
   "execution_count": null,
   "id": "cd55f6d4",
   "metadata": {},
   "outputs": [],
   "source": [
    "#Run the model \n",
    "python predict.py"
   ]
  },
  {
   "cell_type": "code",
   "execution_count": null,
   "id": "0886bf20",
   "metadata": {},
   "outputs": [],
   "source": []
  },
  {
   "cell_type": "code",
   "execution_count": null,
   "id": "f44cc664",
   "metadata": {},
   "outputs": [],
   "source": [
    "#to expport model to tflite\n",
    "from ultralytics import YOLO\n",
    "\n",
    "model = YOLO(\"yolov8m-seg-custom.pt\")\n",
    "\n",
    "model.export(format=\"tflite\")"
   ]
  },
  {
   "cell_type": "code",
   "execution_count": null,
   "id": "089b77e9",
   "metadata": {},
   "outputs": [],
   "source": [
    "python predict.py"
   ]
  },
  {
   "cell_type": "code",
   "execution_count": null,
   "id": "43970dc9",
   "metadata": {},
   "outputs": [],
   "source": []
  },
  {
   "cell_type": "code",
   "execution_count": null,
   "id": "55603a09",
   "metadata": {},
   "outputs": [],
   "source": []
  }
 ],
 "metadata": {
  "kernelspec": {
   "display_name": "Python 3 (ipykernel)",
   "language": "python",
   "name": "python3"
  },
  "language_info": {
   "codemirror_mode": {
    "name": "ipython",
    "version": 3
   },
   "file_extension": ".py",
   "mimetype": "text/x-python",
   "name": "python",
   "nbconvert_exporter": "python",
   "pygments_lexer": "ipython3",
   "version": "3.9.18"
  }
 },
 "nbformat": 4,
 "nbformat_minor": 5
}
